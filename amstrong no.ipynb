{
 "cells": [
  {
   "cell_type": "code",
   "execution_count": 3,
   "id": "3dce5716-2681-4b18-a822-d4f84e977af4",
   "metadata": {},
   "outputs": [
    {
     "name": "stdin",
     "output_type": "stream",
     "text": [
      "Enter the number 153\n"
     ]
    },
    {
     "name": "stdout",
     "output_type": "stream",
     "text": [
      "Lastest value of sum: 153\n",
      "Lastest value of temp: 0\n",
      "153 is an armstrong number\n"
     ]
    }
   ],
   "source": [
    "num=int(input(\"Enter the number\"))\n",
    "temp=num\n",
    "n=len(str(num))\n",
    "sum=0\n",
    "while temp>0:\n",
    "    digit=temp%10\n",
    "    sum+=digit**n\n",
    "    temp//=10\n",
    "print(\"Lastest value of sum:\",sum)\n",
    "print(\"Lastest value of temp:\",temp)\n",
    "if sum==num:\n",
    "    print(num,\"is an armstrong number\")\n",
    "else:\n",
    "    print(num,\"is not an armstrong number\")"
   ]
  },
  {
   "cell_type": "code",
   "execution_count": 21,
   "id": "ca03135c-9ddb-4054-980c-2707b925eedc",
   "metadata": {},
   "outputs": [
    {
     "name": "stdin",
     "output_type": "stream",
     "text": [
      "enter the number 156\n"
     ]
    },
    {
     "name": "stdout",
     "output_type": "stream",
     "text": [
      "Lastest value of sum: 12\n",
      "Lastest value of temp: 0\n",
      "12 is an nivens number\n"
     ]
    }
   ],
   "source": [
    "num=int(input(\"enter the number\"))\n",
    "temp=num\n",
    "sum=0\n",
    "while temp>0:\n",
    "    digit=temp%10\n",
    "    sum+=digit\n",
    "    temp//=10\n",
    "print(\"Lastest value of sum:\",sum)\n",
    "print(\"Lastest value of temp:\",temp)\n",
    "if num%sum==0:\n",
    "    print(sum,\"is an nivens number\")\n",
    "else:\n",
    "    print(num,\"is not an nivens number\")"
   ]
  },
  {
   "cell_type": "code",
   "execution_count": 23,
   "id": "ebc68304-31ef-4834-82ff-767dcc6b95ba",
   "metadata": {},
   "outputs": [
    {
     "name": "stdin",
     "output_type": "stream",
     "text": [
      "enter the word: Haritha\n"
     ]
    },
    {
     "name": "stdout",
     "output_type": "stream",
     "text": [
      "H\n",
      "a\n",
      "r\n",
      "i\n",
      "t\n",
      "h\n",
      "a\n"
     ]
    }
   ],
   "source": [
    "word=input(\"enter the word:\")\n",
    "for ch in word:\n",
    "    print(ch)"
   ]
  },
  {
   "cell_type": "code",
   "execution_count": null,
   "id": "4396a8e9-1f4a-4e69-a77e-b6632f1aeebd",
   "metadata": {},
   "outputs": [],
   "source": []
  }
 ],
 "metadata": {
  "kernelspec": {
   "display_name": "Python 3 (ipykernel)",
   "language": "python",
   "name": "python3"
  },
  "language_info": {
   "codemirror_mode": {
    "name": "ipython",
    "version": 3
   },
   "file_extension": ".py",
   "mimetype": "text/x-python",
   "name": "python",
   "nbconvert_exporter": "python",
   "pygments_lexer": "ipython3",
   "version": "3.12.7"
  }
 },
 "nbformat": 4,
 "nbformat_minor": 5
}
